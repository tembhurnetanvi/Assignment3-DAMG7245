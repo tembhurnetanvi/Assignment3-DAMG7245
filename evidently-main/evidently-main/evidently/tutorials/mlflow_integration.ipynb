{
 "cells": [
  {
   "cell_type": "markdown",
   "metadata": {},
   "source": [
    "# Using MLFlow and Evidently to Evaluate Data Drift"
   ]
  },
  {
   "cell_type": "markdown",
   "metadata": {},
   "source": [
    "In this example, we will explore the MLflow integration with Evidently.\n",
    "\n",
    "This notebook shows how you can use the Evidently and MLflow to:\n",
    "* calculate data drift for the model, performed as batch checks \n",
    "* log data drift using MLflow Tracking\n",
    "* explore the result using MLflow UI\n",
    "\n",
    "Acknowledgments:\n",
    "* The dataset used in the example is from:  https://www.kaggle.com/c/bike-sharing-demand/data?select=train.csv\n",
    "* Fanaee-T, Hadi, and Gama, Joao, 'Event labeling combining ensemble detectors and background knowledge', Progress in Artificial Intelligence (2013): pp. 1-15, Springer Berlin Heidelberg\n",
    "* More information about the dataset can be found in UCI machine learning repository: https://archive.ics.uci.edu/ml/datasets/bike+sharing+dataset"
   ]
  },
  {
   "cell_type": "markdown",
   "metadata": {},
   "source": [
    "## Getting Started¶\n",
    "To run this tutorial:\n",
    "\n",
    "1. Install MLflow\n",
    "You can install MLflow with the following command `pip install mlflow` or install MLflow with scikit-learn via `pip install mlflow[extras]`\n",
    "More details:https://mlflow.org/docs/latest/tutorials-and-examples/tutorial.html#id5\n",
    "\n",
    "2. Install Evidently\n",
    "You can install Evidently with the following command `pip install evidently`\n",
    "In case you are also interested in Evidently Dashboard visualization in Jupyter install jupyter nbextention:\n",
    "`jupyter nbextension install --sys-prefix --symlink --overwrite --py evidently`\n",
    "And activate it:\n",
    "`jupyter nbextension enable evidently --py --sys-prefix`\n",
    "More details: https://docs.evidentlyai.com/install-evidently \n",
    "\n",
    "3. Load data from https://archive.ics.uci.edu/ml/datasets/bike+sharing+dataset and save in locally"
   ]
  },
  {
   "cell_type": "code",
   "execution_count": 8,
   "metadata": {},
   "outputs": [],
   "source": [
    "import warnings\n",
    "warnings.filterwarnings('ignore')\n",
    "warnings.simplefilter('ignore')"
   ]
  },
  {
   "cell_type": "code",
   "execution_count": 9,
   "metadata": {},
   "outputs": [],
   "source": [
    "import json\n",
    "import pandas as pd\n",
    "\n",
    "from evidently.model_profile import Profile\n",
    "from evidently.profile_sections import DataDriftProfileSection\n",
    "\n",
    "import mlflow\n",
    "import mlflow.sklearn\n",
    "from mlflow.tracking import MlflowClient"
   ]
  },
  {
   "cell_type": "markdown",
   "metadata": {},
   "source": [
    "More information about the dataset can be found in Kaggle Playground Competition: https://www.kaggle.com/c/bike-sharing-demand/data?select=train.csv\n",
    "\n",
    "Acknowledgement: Fanaee-T, Hadi, and Gama, Joao, 'Event labeling combining ensemble detectors and background knowledge', Progress in Artificial Intelligence (2013): pp. 1-15, Springer Berlin Heidelberg"
   ]
  },
  {
   "cell_type": "code",
   "execution_count": 2,
   "metadata": {},
   "outputs": [],
   "source": [
    "#load data\n",
    "raw_data = pd.read_csv('bike_demand_prediction_data.csv', header=0, \n",
    "                       sep=',', parse_dates=['datetime'], index_col='datetime')"
   ]
  },
  {
   "cell_type": "code",
   "execution_count": 3,
   "metadata": {},
   "outputs": [
    {
     "data": {
      "text/html": [
       "<div>\n",
       "<style scoped>\n",
       "    .dataframe tbody tr th:only-of-type {\n",
       "        vertical-align: middle;\n",
       "    }\n",
       "\n",
       "    .dataframe tbody tr th {\n",
       "        vertical-align: top;\n",
       "    }\n",
       "\n",
       "    .dataframe thead th {\n",
       "        text-align: right;\n",
       "    }\n",
       "</style>\n",
       "<table border=\"1\" class=\"dataframe\">\n",
       "  <thead>\n",
       "    <tr style=\"text-align: right;\">\n",
       "      <th></th>\n",
       "      <th>season</th>\n",
       "      <th>holiday</th>\n",
       "      <th>workingday</th>\n",
       "      <th>weather</th>\n",
       "      <th>temp</th>\n",
       "      <th>atemp</th>\n",
       "      <th>humidity</th>\n",
       "      <th>windspeed</th>\n",
       "      <th>casual</th>\n",
       "      <th>registered</th>\n",
       "      <th>count</th>\n",
       "    </tr>\n",
       "    <tr>\n",
       "      <th>datetime</th>\n",
       "      <th></th>\n",
       "      <th></th>\n",
       "      <th></th>\n",
       "      <th></th>\n",
       "      <th></th>\n",
       "      <th></th>\n",
       "      <th></th>\n",
       "      <th></th>\n",
       "      <th></th>\n",
       "      <th></th>\n",
       "      <th></th>\n",
       "    </tr>\n",
       "  </thead>\n",
       "  <tbody>\n",
       "    <tr>\n",
       "      <th>2011-01-01 00:00:00</th>\n",
       "      <td>1</td>\n",
       "      <td>0</td>\n",
       "      <td>0</td>\n",
       "      <td>1</td>\n",
       "      <td>9.84</td>\n",
       "      <td>14.395</td>\n",
       "      <td>81</td>\n",
       "      <td>0.0</td>\n",
       "      <td>3</td>\n",
       "      <td>13</td>\n",
       "      <td>16</td>\n",
       "    </tr>\n",
       "    <tr>\n",
       "      <th>2011-01-01 01:00:00</th>\n",
       "      <td>1</td>\n",
       "      <td>0</td>\n",
       "      <td>0</td>\n",
       "      <td>1</td>\n",
       "      <td>9.02</td>\n",
       "      <td>13.635</td>\n",
       "      <td>80</td>\n",
       "      <td>0.0</td>\n",
       "      <td>8</td>\n",
       "      <td>32</td>\n",
       "      <td>40</td>\n",
       "    </tr>\n",
       "    <tr>\n",
       "      <th>2011-01-01 02:00:00</th>\n",
       "      <td>1</td>\n",
       "      <td>0</td>\n",
       "      <td>0</td>\n",
       "      <td>1</td>\n",
       "      <td>9.02</td>\n",
       "      <td>13.635</td>\n",
       "      <td>80</td>\n",
       "      <td>0.0</td>\n",
       "      <td>5</td>\n",
       "      <td>27</td>\n",
       "      <td>32</td>\n",
       "    </tr>\n",
       "    <tr>\n",
       "      <th>2011-01-01 03:00:00</th>\n",
       "      <td>1</td>\n",
       "      <td>0</td>\n",
       "      <td>0</td>\n",
       "      <td>1</td>\n",
       "      <td>9.84</td>\n",
       "      <td>14.395</td>\n",
       "      <td>75</td>\n",
       "      <td>0.0</td>\n",
       "      <td>3</td>\n",
       "      <td>10</td>\n",
       "      <td>13</td>\n",
       "    </tr>\n",
       "    <tr>\n",
       "      <th>2011-01-01 04:00:00</th>\n",
       "      <td>1</td>\n",
       "      <td>0</td>\n",
       "      <td>0</td>\n",
       "      <td>1</td>\n",
       "      <td>9.84</td>\n",
       "      <td>14.395</td>\n",
       "      <td>75</td>\n",
       "      <td>0.0</td>\n",
       "      <td>0</td>\n",
       "      <td>1</td>\n",
       "      <td>1</td>\n",
       "    </tr>\n",
       "  </tbody>\n",
       "</table>\n",
       "</div>"
      ],
      "text/plain": [
       "                     season  holiday  workingday  weather  temp   atemp  \\\n",
       "datetime                                                                  \n",
       "2011-01-01 00:00:00       1        0           0        1  9.84  14.395   \n",
       "2011-01-01 01:00:00       1        0           0        1  9.02  13.635   \n",
       "2011-01-01 02:00:00       1        0           0        1  9.02  13.635   \n",
       "2011-01-01 03:00:00       1        0           0        1  9.84  14.395   \n",
       "2011-01-01 04:00:00       1        0           0        1  9.84  14.395   \n",
       "\n",
       "                     humidity  windspeed  casual  registered  count  \n",
       "datetime                                                             \n",
       "2011-01-01 00:00:00        81        0.0       3          13     16  \n",
       "2011-01-01 01:00:00        80        0.0       8          32     40  \n",
       "2011-01-01 02:00:00        80        0.0       5          27     32  \n",
       "2011-01-01 03:00:00        75        0.0       3          10     13  \n",
       "2011-01-01 04:00:00        75        0.0       0           1      1  "
      ]
     },
     "execution_count": 3,
     "metadata": {},
     "output_type": "execute_result"
    }
   ],
   "source": [
    "#observe data structure\n",
    "raw_data.head()"
   ]
  },
  {
   "cell_type": "code",
   "execution_count": 12,
   "metadata": {},
   "outputs": [],
   "source": [
    "#set column mapping for Evidently Profile\n",
    "data_columns = {}\n",
    "data_columns['numerical_features'] = ['weather', 'temp', 'atemp', 'humidity', 'windspeed']\n",
    "data_columns['categorical_features'] = ['holiday', 'workingday']"
   ]
  },
  {
   "cell_type": "code",
   "execution_count": 13,
   "metadata": {},
   "outputs": [],
   "source": [
    "#evaluate data drift with Evidently Profile\n",
    "def eval_drift(reference, production, column_mapping):\n",
    "    data_drift_profile = Profile(sections=[DataDriftProfileSection])\n",
    "    data_drift_profile.calculate(reference, production, column_mapping=column_mapping)\n",
    "    report = data_drift_profile.json()\n",
    "    json_report = json.loads(report)\n",
    "\n",
    "    drifts = []\n",
    "    for feature in column_mapping['numerical_features'] + column_mapping['categorical_features']:\n",
    "        drifts.append((feature, json_report['data_drift']['data']['metrics'][feature]['p_value'])) \n",
    "    return drifts"
   ]
  },
  {
   "cell_type": "code",
   "execution_count": 16,
   "metadata": {},
   "outputs": [],
   "source": [
    "#set reference dates\n",
    "reference_dates = ('2011-01-01 00:00:00','2011-01-28 23:00:00')\n",
    "\n",
    "#set experiment batches dates\n",
    "experiment_batches = [\n",
    "    ('2011-01-01 00:00:00','2011-01-29 23:00:00'),\n",
    "    ('2011-01-29 00:00:00','2011-02-07 23:00:00'),\n",
    "    ('2011-02-07 00:00:00','2011-02-14 23:00:00'),\n",
    "    ('2011-02-15 00:00:00','2011-02-21 23:00:00'),  \n",
    "]"
   ]
  },
  {
   "cell_type": "code",
   "execution_count": 17,
   "metadata": {},
   "outputs": [
    {
     "name": "stdout",
     "output_type": "stream",
     "text": [
      "<RunInfo: artifact_uri='file:///Users/emeli/Dev/evidently/mlflow/examples/evidently/mlruns/3/dafc7696e7ab4418b1ea3c77799bc0b6/artifacts', end_time=None, experiment_id='3', lifecycle_stage='active', run_id='dafc7696e7ab4418b1ea3c77799bc0b6', run_uuid='dafc7696e7ab4418b1ea3c77799bc0b6', start_time=1626195935151, status='RUNNING', user_id='emeli'>\n",
      "<RunInfo: artifact_uri='file:///Users/emeli/Dev/evidently/mlflow/examples/evidently/mlruns/3/df9e6ff2ae7b4266b347d6071302842a/artifacts', end_time=None, experiment_id='3', lifecycle_stage='active', run_id='df9e6ff2ae7b4266b347d6071302842a', run_uuid='df9e6ff2ae7b4266b347d6071302842a', start_time=1626195935242, status='RUNNING', user_id='emeli'>\n",
      "<RunInfo: artifact_uri='file:///Users/emeli/Dev/evidently/mlflow/examples/evidently/mlruns/3/d960a43851ec42549d48d644772538f8/artifacts', end_time=None, experiment_id='3', lifecycle_stage='active', run_id='d960a43851ec42549d48d644772538f8', run_uuid='d960a43851ec42549d48d644772538f8', start_time=1626195935353, status='RUNNING', user_id='emeli'>\n",
      "<RunInfo: artifact_uri='file:///Users/emeli/Dev/evidently/mlflow/examples/evidently/mlruns/3/88ca88c6ca6644479e34edb80fe65cfc/artifacts', end_time=None, experiment_id='3', lifecycle_stage='active', run_id='88ca88c6ca6644479e34edb80fe65cfc', run_uuid='88ca88c6ca6644479e34edb80fe65cfc', start_time=1626195935475, status='RUNNING', user_id='emeli'>\n"
     ]
    }
   ],
   "source": [
    "#log into MLflow\n",
    "client = MlflowClient()\n",
    "\n",
    "#set experiment\n",
    "mlflow.set_experiment('Data Drift Evaluation with Evidently')\n",
    "\n",
    "#start new run\n",
    "for date in experiment_batches:\n",
    "    with mlflow.start_run() as run: #inside brackets run_name='test'\n",
    "        \n",
    "        # Log parameters\n",
    "        mlflow.log_param(\"begin\", date[0])\n",
    "        mlflow.log_param(\"end\", date[1])\n",
    "\n",
    "        # Log metrics\n",
    "        metrics = eval_drift(raw_data.loc[reference_dates[0]:reference_dates[1]], \n",
    "                             raw_data.loc[date[0]:date[1]], \n",
    "                             column_mapping=data_columns)\n",
    "        for feature in metrics:\n",
    "            mlflow.log_metric(feature[0], round(feature[1], 3))\n",
    "\n",
    "        print(run.info)"
   ]
  },
  {
   "cell_type": "code",
   "execution_count": 19,
   "metadata": {},
   "outputs": [
    {
     "name": "stdout",
     "output_type": "stream",
     "text": [
      "[2021-07-13 17:26:11 +0300] [2234] [INFO] Starting gunicorn 20.1.0\n",
      "[2021-07-13 17:26:11 +0300] [2234] [INFO] Listening at: http://127.0.0.1:5000 (2234)\n",
      "[2021-07-13 17:26:11 +0300] [2234] [INFO] Using worker: sync\n",
      "[2021-07-13 17:26:11 +0300] [2237] [INFO] Booting worker with pid: 2237\n",
      "^C\n",
      "\n",
      "Aborted!\n",
      "[2021-07-13 17:27:01 +0300] [2234] [INFO] Handling signal: int\n",
      "[2021-07-13 17:27:01 +0300] [2237] [INFO] Worker exiting (pid: 2237)\n"
     ]
    }
   ],
   "source": [
    "#run MLflow UI (it will be more convinient to run it directly from the terminal)\n",
    "!mlflow ui"
   ]
  }
 ],
 "metadata": {
  "kernelspec": {
   "display_name": "Python 3",
   "language": "python",
   "name": "python3"
  },
  "language_info": {
   "codemirror_mode": {
    "name": "ipython",
    "version": 3
   },
   "file_extension": ".py",
   "mimetype": "text/x-python",
   "name": "python",
   "nbconvert_exporter": "python",
   "pygments_lexer": "ipython3",
   "version": "3.6.8"
  }
 },
 "nbformat": 4,
 "nbformat_minor": 2
}
